{
 "cells": [
  {
   "cell_type": "markdown",
   "metadata": {},
   "source": [
    "## Deliverable 3. Create a Travel Itinerary Map."
   ]
  },
  {
   "cell_type": "code",
   "execution_count": 1,
   "metadata": {},
   "outputs": [],
   "source": [
    "# Dependencies and Setup\n",
    "import pandas as pd\n",
    "import requests\n",
    "import gmaps\n",
    "\n",
    "# Import API key\n",
    "from config import g_key\n",
    "\n",
    "# Configure gmaps\n",
    "gmaps.configure(api_key=g_key)"
   ]
  },
  {
   "cell_type": "code",
   "execution_count": 2,
   "metadata": {},
   "outputs": [
    {
     "data": {
      "text/html": [
       "<div>\n",
       "<style scoped>\n",
       "    .dataframe tbody tr th:only-of-type {\n",
       "        vertical-align: middle;\n",
       "    }\n",
       "\n",
       "    .dataframe tbody tr th {\n",
       "        vertical-align: top;\n",
       "    }\n",
       "\n",
       "    .dataframe thead th {\n",
       "        text-align: right;\n",
       "    }\n",
       "</style>\n",
       "<table border=\"1\" class=\"dataframe\">\n",
       "  <thead>\n",
       "    <tr style=\"text-align: right;\">\n",
       "      <th></th>\n",
       "      <th>City_ID</th>\n",
       "      <th>City</th>\n",
       "      <th>Country</th>\n",
       "      <th>Max Temp</th>\n",
       "      <th>Current Description</th>\n",
       "      <th>Lat</th>\n",
       "      <th>Lng</th>\n",
       "      <th>Hotel Name</th>\n",
       "    </tr>\n",
       "  </thead>\n",
       "  <tbody>\n",
       "    <tr>\n",
       "      <th>0</th>\n",
       "      <td>0</td>\n",
       "      <td>Kapaa</td>\n",
       "      <td>US</td>\n",
       "      <td>79.12</td>\n",
       "      <td>broken clouds</td>\n",
       "      <td>22.0752</td>\n",
       "      <td>-159.3190</td>\n",
       "      <td>Sheraton Kauai Coconut Beach Resort</td>\n",
       "    </tr>\n",
       "    <tr>\n",
       "      <th>1</th>\n",
       "      <td>6</td>\n",
       "      <td>Puro</td>\n",
       "      <td>PH</td>\n",
       "      <td>81.09</td>\n",
       "      <td>broken clouds</td>\n",
       "      <td>12.4841</td>\n",
       "      <td>123.3827</td>\n",
       "      <td>NaN</td>\n",
       "    </tr>\n",
       "    <tr>\n",
       "      <th>2</th>\n",
       "      <td>8</td>\n",
       "      <td>Ribeira Grande</td>\n",
       "      <td>PT</td>\n",
       "      <td>79.20</td>\n",
       "      <td>few clouds</td>\n",
       "      <td>38.5167</td>\n",
       "      <td>-28.7000</td>\n",
       "      <td>Quinta da Meia Eira</td>\n",
       "    </tr>\n",
       "    <tr>\n",
       "      <th>3</th>\n",
       "      <td>10</td>\n",
       "      <td>Formosa Do Rio Preto</td>\n",
       "      <td>BR</td>\n",
       "      <td>86.22</td>\n",
       "      <td>overcast clouds</td>\n",
       "      <td>-11.0483</td>\n",
       "      <td>-45.1931</td>\n",
       "      <td>Porto Center Hotel</td>\n",
       "    </tr>\n",
       "    <tr>\n",
       "      <th>4</th>\n",
       "      <td>11</td>\n",
       "      <td>Butaritari</td>\n",
       "      <td>KI</td>\n",
       "      <td>81.77</td>\n",
       "      <td>scattered clouds</td>\n",
       "      <td>3.0707</td>\n",
       "      <td>172.7902</td>\n",
       "      <td>Isles Sunset Lodge</td>\n",
       "    </tr>\n",
       "    <tr>\n",
       "      <th>...</th>\n",
       "      <td>...</td>\n",
       "      <td>...</td>\n",
       "      <td>...</td>\n",
       "      <td>...</td>\n",
       "      <td>...</td>\n",
       "      <td>...</td>\n",
       "      <td>...</td>\n",
       "      <td>...</td>\n",
       "    </tr>\n",
       "    <tr>\n",
       "      <th>208</th>\n",
       "      <td>669</td>\n",
       "      <td>Birao</td>\n",
       "      <td>CF</td>\n",
       "      <td>78.17</td>\n",
       "      <td>light rain</td>\n",
       "      <td>10.2849</td>\n",
       "      <td>22.7882</td>\n",
       "      <td>NaN</td>\n",
       "    </tr>\n",
       "    <tr>\n",
       "      <th>209</th>\n",
       "      <td>680</td>\n",
       "      <td>Vidalia</td>\n",
       "      <td>US</td>\n",
       "      <td>87.91</td>\n",
       "      <td>clear sky</td>\n",
       "      <td>32.2177</td>\n",
       "      <td>-82.4135</td>\n",
       "      <td>Quality Inn &amp; Suites</td>\n",
       "    </tr>\n",
       "    <tr>\n",
       "      <th>210</th>\n",
       "      <td>683</td>\n",
       "      <td>Ormara</td>\n",
       "      <td>PK</td>\n",
       "      <td>83.07</td>\n",
       "      <td>overcast clouds</td>\n",
       "      <td>25.2088</td>\n",
       "      <td>64.6357</td>\n",
       "      <td>Kenara Colony House for Rent</td>\n",
       "    </tr>\n",
       "    <tr>\n",
       "      <th>211</th>\n",
       "      <td>686</td>\n",
       "      <td>Menongue</td>\n",
       "      <td>AO</td>\n",
       "      <td>78.35</td>\n",
       "      <td>clear sky</td>\n",
       "      <td>-14.6585</td>\n",
       "      <td>17.6910</td>\n",
       "      <td>Ritz Lauca</td>\n",
       "    </tr>\n",
       "    <tr>\n",
       "      <th>212</th>\n",
       "      <td>687</td>\n",
       "      <td>Zboriv</td>\n",
       "      <td>UA</td>\n",
       "      <td>78.93</td>\n",
       "      <td>broken clouds</td>\n",
       "      <td>49.6648</td>\n",
       "      <td>25.1410</td>\n",
       "      <td>Polʹsha Lnl</td>\n",
       "    </tr>\n",
       "  </tbody>\n",
       "</table>\n",
       "<p>213 rows × 8 columns</p>\n",
       "</div>"
      ],
      "text/plain": [
       "     City_ID                  City Country  Max Temp Current Description  \\\n",
       "0          0                 Kapaa      US     79.12       broken clouds   \n",
       "1          6                  Puro      PH     81.09       broken clouds   \n",
       "2          8        Ribeira Grande      PT     79.20          few clouds   \n",
       "3         10  Formosa Do Rio Preto      BR     86.22     overcast clouds   \n",
       "4         11            Butaritari      KI     81.77    scattered clouds   \n",
       "..       ...                   ...     ...       ...                 ...   \n",
       "208      669                 Birao      CF     78.17          light rain   \n",
       "209      680               Vidalia      US     87.91           clear sky   \n",
       "210      683                Ormara      PK     83.07     overcast clouds   \n",
       "211      686              Menongue      AO     78.35           clear sky   \n",
       "212      687                Zboriv      UA     78.93       broken clouds   \n",
       "\n",
       "         Lat       Lng                           Hotel Name  \n",
       "0    22.0752 -159.3190  Sheraton Kauai Coconut Beach Resort  \n",
       "1    12.4841  123.3827                                  NaN  \n",
       "2    38.5167  -28.7000                  Quinta da Meia Eira  \n",
       "3   -11.0483  -45.1931                   Porto Center Hotel  \n",
       "4     3.0707  172.7902                   Isles Sunset Lodge  \n",
       "..       ...       ...                                  ...  \n",
       "208  10.2849   22.7882                                  NaN  \n",
       "209  32.2177  -82.4135                 Quality Inn & Suites  \n",
       "210  25.2088   64.6357         Kenara Colony House for Rent  \n",
       "211 -14.6585   17.6910                           Ritz Lauca  \n",
       "212  49.6648   25.1410                          Polʹsha Lnl  \n",
       "\n",
       "[213 rows x 8 columns]"
      ]
     },
     "execution_count": 2,
     "metadata": {},
     "output_type": "execute_result"
    }
   ],
   "source": [
    "# 1. Read the WeatherPy_vacation.csv into a DataFrame.\n",
    "vacation_df = pd.read_csv(\"Weather_Data/WeatherPy_Vacation.csv\")\n",
    "vacation_df"
   ]
  },
  {
   "cell_type": "code",
   "execution_count": 3,
   "metadata": {},
   "outputs": [],
   "source": [
    "# 2. Using the template add the city name, the country code, the weather description and maximum temperature for the city.\n",
    "info_box_template = \"\"\"\n",
    "<dl>\n",
    "<dt>Hotel Name</dt><dd>{Hotel Name}</dd>\n",
    "<dt>City</dt><dd>{City}</dd>\n",
    "<dt>Country</dt><dd>{Country}</dd>\n",
    "<dt>Weather Description</dt><dd>{Current Description} °F</dd>\n",
    "</dl>\n",
    "\n",
    "\"\"\"\n",
    "\n",
    "# 3a. Get the data from each row and add it to the formatting template and store the data in a list.\n",
    "hotel_info = [info_box_template.format(**row) for index, row in vacation_df.iterrows()]\n",
    "\n",
    "# 3b. Get the latitude and longitude from each row and store in a new DataFrame.\n",
    "locations = vacation_df[[\"Lat\", \"Lng\"]]"
   ]
  },
  {
   "cell_type": "code",
   "execution_count": 4,
   "metadata": {},
   "outputs": [
    {
     "data": {
      "application/vnd.jupyter.widget-view+json": {
       "model_id": "d538b56c114644589b462caa9feac7ee",
       "version_major": 2,
       "version_minor": 0
      },
      "text/plain": [
       "Figure(layout=FigureLayout(height='420px'))"
      ]
     },
     "metadata": {},
     "output_type": "display_data"
    }
   ],
   "source": [
    "# 4a. Add a marker layer for each city to the map.\n",
    "\n",
    "fig = gmaps.figure(center=(30.0, 31.0), zoom_level=1.5)\n",
    "\n",
    "marker_layer = gmaps.marker_layer(locations, info_box_content=hotel_info)\n",
    "fig.add_layer(marker_layer)\n",
    "\n",
    "# 11b. Display the figure\n",
    "fig"
   ]
  },
  {
   "cell_type": "code",
   "execution_count": 5,
   "metadata": {},
   "outputs": [],
   "source": [
    "# From the map above pick 4 cities and create a vacation itinerary route to travel between the four cities. \n",
    "# 5. Create DataFrames for each city by filtering the 'vacation_df' using the loc method. \n",
    "# Hint: The starting and ending city should be the same city.\n",
    "\n",
    "vacation_start = vacation_df.loc[vacation_df[\"City\"] == \"Vidalia\"]\n",
    "vacation_end = vacation_df.loc[vacation_df[\"City\"] == \"Key West\"]\n",
    "vacation_stop1 = vacation_df.loc[vacation_df[\"City\"] == \"Rincon\"]\n",
    "vacation_stop2 = vacation_df.loc[vacation_df[\"City\"] == \"Satellite Beach\"] \n",
    "vacation_stop3 = vacation_df.loc[vacation_df[\"City\"] == \"Miramar\"]"
   ]
  },
  {
   "cell_type": "code",
   "execution_count": null,
   "metadata": {},
   "outputs": [],
   "source": []
  },
  {
   "cell_type": "code",
   "execution_count": 6,
   "metadata": {},
   "outputs": [
    {
     "name": "stdout",
     "output_type": "stream",
     "text": [
      "Start: (32.2177, -82.4135), End: (24.5557, -81.7826)\n",
      "Stop 1:      City_ID    City Country  Max Temp Current Description     Lat      Lng  \\\n",
      "101      339  Rincon      US     90.86    scattered clouds  32.296 -81.2354   \n",
      "\n",
      "          Hotel Name  \n",
      "101  Days Inn Rincon  , Stop 2:      City_ID             City Country  Max Temp Current Description      Lat  \\\n",
      "144      466  Satellite Beach      US      92.1           clear sky  28.1761   \n",
      "\n",
      "         Lng                       Hotel Name  \n",
      "144 -80.5901  Radisson Suite Hotel Oceanfront  , Stop 3:     City_ID     City Country  Max Temp Current Description      Lat      Lng  \\\n",
      "20       72  Miramar      US     89.62          few clouds  25.9873 -80.2323   \n",
      "\n",
      "       Hotel Name  \n",
      "20  Stadium Hotel  \n"
     ]
    }
   ],
   "source": [
    "# 6. Get the latitude-longitude pairs as tuples from each city DataFrame using the to_numpy function and list indexing.\n",
    "start = vacation_start[\"Lat\"].to_numpy()[0], vacation_start[\"Lng\"].to_numpy()[0]\n",
    "end = vacation_end[\"Lat\"].to_numpy()[0], vacation_end[\"Lng\"].to_numpy()[0]\n",
    "print(f'Start: {start}, End: {end}')\n",
    "stop1 = vacation_stop1[\"Lat\"].to_numpy()[0], vacation_stop1[\"Lng\"].to_numpy()[0]\n",
    "stop2 = vacation_stop2[\"Lat\"].to_numpy()[0], vacation_stop2[\"Lng\"].to_numpy()[0]\n",
    "stop3 = vacation_stop3[\"Lat\"].to_numpy()[0], vacation_stop3[\"Lng\"].to_numpy()[0]\n",
    "print(f'Stop 1: {vacation_stop1}, Stop 2: {vacation_stop2}, Stop 3: {vacation_stop3}')"
   ]
  },
  {
   "cell_type": "code",
   "execution_count": 8,
   "metadata": {
    "scrolled": true
   },
   "outputs": [
    {
     "data": {
      "application/vnd.jupyter.widget-view+json": {
       "model_id": "0317a4f6dbe0416685a5e2ffa1378ce5",
       "version_major": 2,
       "version_minor": 0
      },
      "text/plain": [
       "Figure(layout=FigureLayout(height='420px'))"
      ]
     },
     "metadata": {},
     "output_type": "display_data"
    }
   ],
   "source": [
    "# 7. Create a direction layer map using the start and end latitude-longitude pairs,\n",
    "# and stop1, stop2, and stop3 as the waypoints. The travel_mode should be \"DRIVING\", \"BICYCLING\", or \"WALKING\".\n",
    "fig = gmaps.figure(center=(30.0, 31.0), zoom_level=1.5)\n",
    "\n",
    "vacation_intenerary = gmaps.directions_layer(\n",
    "    start, end, waypoints=[stop1, stop2, stop3],\n",
    "        travel_mode='DRIVING')\n",
    "\n",
    "fig.add_layer(vacation_intenerary)\n",
    "\n",
    "fig\n"
   ]
  },
  {
   "cell_type": "code",
   "execution_count": 9,
   "metadata": {},
   "outputs": [
    {
     "data": {
      "text/html": [
       "<div>\n",
       "<style scoped>\n",
       "    .dataframe tbody tr th:only-of-type {\n",
       "        vertical-align: middle;\n",
       "    }\n",
       "\n",
       "    .dataframe tbody tr th {\n",
       "        vertical-align: top;\n",
       "    }\n",
       "\n",
       "    .dataframe thead th {\n",
       "        text-align: right;\n",
       "    }\n",
       "</style>\n",
       "<table border=\"1\" class=\"dataframe\">\n",
       "  <thead>\n",
       "    <tr style=\"text-align: right;\">\n",
       "      <th></th>\n",
       "      <th>City_ID</th>\n",
       "      <th>City</th>\n",
       "      <th>Country</th>\n",
       "      <th>Max Temp</th>\n",
       "      <th>Current Description</th>\n",
       "      <th>Lat</th>\n",
       "      <th>Lng</th>\n",
       "      <th>Hotel Name</th>\n",
       "    </tr>\n",
       "  </thead>\n",
       "  <tbody>\n",
       "    <tr>\n",
       "      <th>0</th>\n",
       "      <td>680</td>\n",
       "      <td>Vidalia</td>\n",
       "      <td>US</td>\n",
       "      <td>87.91</td>\n",
       "      <td>clear sky</td>\n",
       "      <td>32.2177</td>\n",
       "      <td>-82.4135</td>\n",
       "      <td>Quality Inn &amp; Suites</td>\n",
       "    </tr>\n",
       "    <tr>\n",
       "      <th>1</th>\n",
       "      <td>375</td>\n",
       "      <td>Key West</td>\n",
       "      <td>US</td>\n",
       "      <td>86.00</td>\n",
       "      <td>broken clouds</td>\n",
       "      <td>24.5557</td>\n",
       "      <td>-81.7826</td>\n",
       "      <td>Fairfield Inn &amp; Suites by Marriott Key West</td>\n",
       "    </tr>\n",
       "    <tr>\n",
       "      <th>2</th>\n",
       "      <td>339</td>\n",
       "      <td>Rincon</td>\n",
       "      <td>US</td>\n",
       "      <td>90.86</td>\n",
       "      <td>scattered clouds</td>\n",
       "      <td>32.2960</td>\n",
       "      <td>-81.2354</td>\n",
       "      <td>Days Inn Rincon</td>\n",
       "    </tr>\n",
       "    <tr>\n",
       "      <th>3</th>\n",
       "      <td>466</td>\n",
       "      <td>Satellite Beach</td>\n",
       "      <td>US</td>\n",
       "      <td>92.10</td>\n",
       "      <td>clear sky</td>\n",
       "      <td>28.1761</td>\n",
       "      <td>-80.5901</td>\n",
       "      <td>Radisson Suite Hotel Oceanfront</td>\n",
       "    </tr>\n",
       "    <tr>\n",
       "      <th>4</th>\n",
       "      <td>72</td>\n",
       "      <td>Miramar</td>\n",
       "      <td>US</td>\n",
       "      <td>89.62</td>\n",
       "      <td>few clouds</td>\n",
       "      <td>25.9873</td>\n",
       "      <td>-80.2323</td>\n",
       "      <td>Stadium Hotel</td>\n",
       "    </tr>\n",
       "  </tbody>\n",
       "</table>\n",
       "</div>"
      ],
      "text/plain": [
       "   City_ID             City Country  Max Temp Current Description      Lat  \\\n",
       "0      680          Vidalia      US     87.91           clear sky  32.2177   \n",
       "1      375         Key West      US     86.00       broken clouds  24.5557   \n",
       "2      339           Rincon      US     90.86    scattered clouds  32.2960   \n",
       "3      466  Satellite Beach      US     92.10           clear sky  28.1761   \n",
       "4       72          Miramar      US     89.62          few clouds  25.9873   \n",
       "\n",
       "       Lng                                   Hotel Name  \n",
       "0 -82.4135                         Quality Inn & Suites  \n",
       "1 -81.7826  Fairfield Inn & Suites by Marriott Key West  \n",
       "2 -81.2354                              Days Inn Rincon  \n",
       "3 -80.5901              Radisson Suite Hotel Oceanfront  \n",
       "4 -80.2323                                Stadium Hotel  "
      ]
     },
     "execution_count": 9,
     "metadata": {},
     "output_type": "execute_result"
    }
   ],
   "source": [
    "# 8. To create a marker layer map between the four cities.\n",
    "#  Combine the four city DataFrames into one DataFrame using the concat() function.\n",
    "itinerary_df = pd.concat([vacation_start, vacation_end, vacation_stop1, vacation_stop2, vacation_stop3],ignore_index=True)\n",
    "itinerary_df"
   ]
  },
  {
   "cell_type": "code",
   "execution_count": 11,
   "metadata": {},
   "outputs": [],
   "source": [
    "# 9 Using the template add city name, the country code, the weather description and maximum temperature for the city. \n",
    "info_box_template = \"\"\"\n",
    "<dl>\n",
    "<dt>Hotel Name</dt><dd>{Hotel Name}</dd>\n",
    "<dt>City</dt><dd>{City}</dd>\n",
    "<dt>Country</dt><dd>{Country}</dd>\n",
    "<dt>Weather Description</dt><dd>{Current Description} °F</dd>\n",
    "</dl>\n",
    "\n",
    "\"\"\"\n",
    "\n",
    "# 10a Get the data from each row and add it to the formatting template and store the data in a list.\n",
    "hotel_info = [info_box_template.format(**row) for index, row in itinerary_df.iterrows()]\n",
    "\n",
    "# 10b. Get the latitude and longitude from each row and store in a new DataFrame.\n",
    "locations = itinerary_df[[\"Lat\", \"Lng\"]]"
   ]
  },
  {
   "cell_type": "code",
   "execution_count": 13,
   "metadata": {},
   "outputs": [
    {
     "data": {
      "application/vnd.jupyter.widget-view+json": {
       "model_id": "0ed63ceb86a34c3a81cc8d79a5878934",
       "version_major": 2,
       "version_minor": 0
      },
      "text/plain": [
       "Figure(layout=FigureLayout(height='420px'))"
      ]
     },
     "metadata": {},
     "output_type": "display_data"
    }
   ],
   "source": [
    "# 11a. Add a marker layer for each city to the map.\n",
    "fig = gmaps.figure(center=(30.0, 31.0), zoom_level=1.5)\n",
    "\n",
    "marker_layer = gmaps.marker_layer(locations, info_box_content=hotel_info)\n",
    "\n",
    "fig.add_layer(marker_layer)\n",
    "# 11b. Display the figure\n",
    "\n",
    "fig"
   ]
  },
  {
   "cell_type": "code",
   "execution_count": null,
   "metadata": {},
   "outputs": [],
   "source": []
  }
 ],
 "metadata": {
  "kernelspec": {
   "display_name": "PythonData",
   "language": "python",
   "name": "pythondata"
  },
  "language_info": {
   "codemirror_mode": {
    "name": "ipython",
    "version": 3
   },
   "file_extension": ".py",
   "mimetype": "text/x-python",
   "name": "python",
   "nbconvert_exporter": "python",
   "pygments_lexer": "ipython3",
   "version": "3.9.12"
  },
  "latex_envs": {
   "LaTeX_envs_menu_present": true,
   "autoclose": false,
   "autocomplete": true,
   "bibliofile": "biblio.bib",
   "cite_by": "apalike",
   "current_citInitial": 1,
   "eqLabelWithNumbers": true,
   "eqNumInitial": 1,
   "hotkeys": {
    "equation": "Ctrl-E",
    "itemize": "Ctrl-I"
   },
   "labels_anchors": false,
   "latex_user_defs": false,
   "report_style_numbering": false,
   "user_envs_cfg": false
  }
 },
 "nbformat": 4,
 "nbformat_minor": 4
}
